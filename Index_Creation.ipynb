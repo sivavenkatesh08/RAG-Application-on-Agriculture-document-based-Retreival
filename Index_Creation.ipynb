{
 "cells": [
  {
   "cell_type": "code",
   "execution_count": 4,
   "id": "310a335a-9229-450a-894a-8f91938460f5",
   "metadata": {},
   "outputs": [
    {
     "name": "stderr",
     "output_type": "stream",
     "text": [
      "📄 Processing text files: 100%|██████████| 12/12 [00:00<00:00, 3701.95it/s]\n"
     ]
    },
    {
     "name": "stdout",
     "output_type": "stream",
     "text": [
      "📦 Embedding and indexing documents...\n"
     ]
    },
    {
     "name": "stderr",
     "output_type": "stream",
     "text": [
      "🖼️ Scanning image folders: 100%|██████████| 12/12 [00:00<00:00, 3908.95it/s]\n",
      "🔢 Embedding images: 100%|██████████| 438/438 [00:46<00:00,  9.45it/s]\n"
     ]
    },
    {
     "name": "stdout",
     "output_type": "stream",
     "text": [
      "🔗 Creating image-to-text mappings...\n"
     ]
    },
    {
     "name": "stderr",
     "output_type": "stream",
     "text": [
      "🔍 Matching images to paragraphs: 100%|██████████| 438/438 [3:44:51<00:00, 30.80s/it]   "
     ]
    },
    {
     "name": "stdout",
     "output_type": "stream",
     "text": [
      "\n",
      "✅ All indices created and saved locally.\n"
     ]
    },
    {
     "name": "stderr",
     "output_type": "stream",
     "text": [
      "\n"
     ]
    }
   ],
   "source": [
    "import os\n",
    "import numpy as np\n",
    "from PIL import Image\n",
    "import faiss\n",
    "from sentence_transformers import SentenceTransformer\n",
    "from transformers import CLIPProcessor, CLIPModel\n",
    "import torch\n",
    "import fitz  # PyMuPDF for PDF text extraction\n",
    "from tqdm import tqdm  # Progress bar\n",
    "\n",
    "# === Paths ===\n",
    "BASE_DIR = r\"C:\\22ad053\\Navigate Labs\\Extracted\"\n",
    "TEXT_FOLDER = os.path.join(BASE_DIR, \"extracted_texts\")\n",
    "IMAGE_FOLDER = os.path.join(BASE_DIR, \"extracted_images\")\n",
    "DOC_INDEX_PATH = os.path.join(BASE_DIR, \"documentss_index.faiss\")\n",
    "DOC_META_PATH = os.path.join(BASE_DIR, \"metadatass.npy\")\n",
    "IMG_INDEX_PATH = os.path.join(BASE_DIR, \"image_indexss.faiss\")\n",
    "IMG_META_PATH = os.path.join(BASE_DIR, \"image_metadatass.npy\")\n",
    "IMAGE_TEXT_MAPPING_PATH = os.path.join(BASE_DIR, \"image_text_mapss.npy\")\n",
    "\n",
    "os.makedirs(BASE_DIR, exist_ok=True)\n",
    "\n",
    "# === Load Embedding Models ===\n",
    "text_model = SentenceTransformer(\"all-MiniLM-L6-v2\")\n",
    "clip_model = CLIPModel.from_pretrained(\"openai/clip-vit-base-patch32\")\n",
    "clip_processor = CLIPProcessor.from_pretrained(\"openai/clip-vit-base-patch32\")\n",
    "\n",
    "# === Helper Functions ===\n",
    "def extract_text_from_pdf(pdf_path):\n",
    "    doc = fitz.open(pdf_path)\n",
    "    text = \"\\n\".join(page.get_text() for page in doc)\n",
    "    return text\n",
    "\n",
    "def get_text_embeddings(texts):\n",
    "    return text_model.encode(texts, convert_to_numpy=True)\n",
    "\n",
    "def get_clip_text_embedding(text):\n",
    "    inputs = clip_processor(text=[text], return_tensors=\"pt\", padding=True, truncation=True)\n",
    "    with torch.no_grad():\n",
    "        outputs = clip_model.get_text_features(**inputs)\n",
    "    return outputs.cpu().numpy()\n",
    "\n",
    "def get_image_embeddings(image_paths):\n",
    "    embeddings = []\n",
    "    for path in tqdm(image_paths, desc=\"🔢 Embedding images\"):\n",
    "        image = Image.open(path).convert(\"RGB\")\n",
    "        inputs = clip_processor(images=image, return_tensors=\"pt\")\n",
    "        with torch.no_grad():\n",
    "            outputs = clip_model.get_image_features(**inputs)\n",
    "        embeddings.append(outputs[0].cpu().numpy())\n",
    "    return np.array(embeddings)\n",
    "\n",
    "# === Create Text Index ===\n",
    "texts = []\n",
    "doc_file_names = []\n",
    "\n",
    "for f in tqdm(os.listdir(TEXT_FOLDER), desc=\"📄 Processing text files\"):\n",
    "    path = os.path.join(TEXT_FOLDER, f)\n",
    "    try:\n",
    "        if f.endswith(\".txt\"):\n",
    "            with open(path, encoding=\"utf-8\") as file:\n",
    "                texts.append(file.read())\n",
    "                doc_file_names.append(f)\n",
    "        elif f.endswith(\".pdf\"):\n",
    "            texts.append(extract_text_from_pdf(path))\n",
    "            doc_file_names.append(f)\n",
    "    except:\n",
    "        continue\n",
    "\n",
    "if texts:\n",
    "    print(\"📦 Embedding and indexing documents...\")\n",
    "    text_embeddings = get_text_embeddings(texts)\n",
    "    doc_index = faiss.IndexFlatL2(text_embeddings.shape[1])\n",
    "    doc_index.add(text_embeddings)\n",
    "    faiss.write_index(doc_index, DOC_INDEX_PATH)\n",
    "    np.save(DOC_META_PATH, doc_file_names)\n",
    "\n",
    "# === Create Image Index ===\n",
    "image_paths = []\n",
    "for folder in tqdm(os.listdir(IMAGE_FOLDER), desc=\"🖼️ Scanning image folders\"):\n",
    "    folder_path = os.path.join(IMAGE_FOLDER, folder)\n",
    "    if os.path.isdir(folder_path):\n",
    "        for file in os.listdir(folder_path):\n",
    "            if file.lower().endswith((\".jpg\", \".png\", \".jpeg\")):\n",
    "                image_paths.append(os.path.join(folder_path, file))\n",
    "\n",
    "if image_paths:\n",
    "    image_embeddings = get_image_embeddings(image_paths)\n",
    "    image_index = faiss.IndexFlatL2(image_embeddings.shape[1])\n",
    "    image_index.add(image_embeddings)\n",
    "    faiss.write_index(image_index, IMG_INDEX_PATH)\n",
    "    np.save(IMG_META_PATH, image_paths)\n",
    "\n",
    "# === Create Image-to-Text Mapping ===\n",
    "img_text_map = {}\n",
    "if image_paths and texts:\n",
    "    print(\"🔗 Creating image-to-text mappings...\")\n",
    "    for img_path, img_embed in tqdm(zip(image_paths, image_embeddings), total=len(image_paths), desc=\"🔍 Matching images to paragraphs\"):\n",
    "        max_sim = -1\n",
    "        best_para = \"\"\n",
    "        for doc_text in texts:\n",
    "            for para in doc_text.split(\"\\n\\n\"):\n",
    "                para = para.strip()\n",
    "                if not para:\n",
    "                    continue\n",
    "                para_embed = get_clip_text_embedding(para)[0]\n",
    "                sim = np.dot(img_embed, para_embed) / (np.linalg.norm(img_embed) * np.linalg.norm(para_embed))\n",
    "                if sim > max_sim:\n",
    "                    max_sim = sim\n",
    "                    best_para = para\n",
    "        img_key = os.path.join(os.path.basename(os.path.dirname(img_path)), os.path.basename(img_path))\n",
    "        img_text_map[img_key] = best_para\n",
    "    np.save(IMAGE_TEXT_MAPPING_PATH, img_text_map)\n",
    "\n",
    "print(\"\\n✅ All indices created and saved locally.\")\n"
   ]
  },
  {
   "cell_type": "code",
   "execution_count": null,
   "id": "20960870-adaf-4895-9368-4754486d417f",
   "metadata": {},
   "outputs": [],
   "source": []
  }
 ],
 "metadata": {
  "kernelspec": {
   "display_name": "Python 3 (ipykernel)",
   "language": "python",
   "name": "python3"
  },
  "language_info": {
   "codemirror_mode": {
    "name": "ipython",
    "version": 3
   },
   "file_extension": ".py",
   "mimetype": "text/x-python",
   "name": "python",
   "nbconvert_exporter": "python",
   "pygments_lexer": "ipython3",
   "version": "3.10.16"
  }
 },
 "nbformat": 4,
 "nbformat_minor": 5
}
